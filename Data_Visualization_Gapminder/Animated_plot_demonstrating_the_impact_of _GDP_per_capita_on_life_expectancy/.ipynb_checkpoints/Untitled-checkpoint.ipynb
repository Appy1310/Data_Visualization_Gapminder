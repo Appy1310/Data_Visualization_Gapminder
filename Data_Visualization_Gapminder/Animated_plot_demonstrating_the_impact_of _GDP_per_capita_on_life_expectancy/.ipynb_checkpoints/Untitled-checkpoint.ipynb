{
 "cells": [
  {
   "cell_type": "code",
   "execution_count": null,
   "metadata": {},
   "outputs": [],
   "source": [
    "# Data Visualization: Animated_plot_demonstrating_the_impact_of _GDP_per_capita_on_life_expectancy\n",
    "\n",
    "![](output_sns_2)\n",
    "\n",
    "\n",
    "Data Visualization \n"
   ]
  }
 ],
 "metadata": {
  "kernelspec": {
   "display_name": "Python 3",
   "language": "python",
   "name": "python3"
  },
  "language_info": {
   "codemirror_mode": {
    "name": "ipython",
    "version": 3
   },
   "file_extension": ".py",
   "mimetype": "text/x-python",
   "name": "python",
   "nbconvert_exporter": "python",
   "pygments_lexer": "ipython3",
   "version": "3.7.3"
  }
 },
 "nbformat": 4,
 "nbformat_minor": 4
}
