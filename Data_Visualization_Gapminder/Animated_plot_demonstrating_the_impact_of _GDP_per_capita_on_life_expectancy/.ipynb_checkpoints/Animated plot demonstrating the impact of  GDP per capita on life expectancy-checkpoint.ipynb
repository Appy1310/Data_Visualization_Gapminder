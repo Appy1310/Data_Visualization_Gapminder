{
 "cells": [
  {
   "cell_type": "markdown",
   "metadata": {},
   "source": [
    "## Animated plot demonstrating the impact of  GDP per capita on life expectancy"
   ]
  },
  {
   "cell_type": "code",
   "execution_count": null,
   "metadata": {},
   "outputs": [],
   "source": [
    "import pandas as pd\n",
    "import seaborn as sns\n",
    "import matplotlib.pyplot as plt\n",
    "import imageio\n",
    "\n",
    "sns.set()"
   ]
  },
  {
   "cell_type": "code",
   "execution_count": null,
   "metadata": {},
   "outputs": [],
   "source": [
    "# Get the data (csv file is hosted on the web)\n",
    "url = 'https://python-graph-gallery.com/wp-content/uploads/gapminderData.csv'\n",
    "gapminder = pd.read_csv(url)\n",
    "gapminder.head(5)\n",
    "gapminder.loc[gapminder['year']==1962]\n"
   ]
  },
  {
   "cell_type": "code",
   "execution_count": null,
   "metadata": {},
   "outputs": [],
   "source": [
    "gapminder['year'].unique()\n",
    "years_to_plot = list(gapminder['year'].unique())\n",
    "years_to_plot\n"
   ]
  },
  {
   "cell_type": "code",
   "execution_count": null,
   "metadata": {},
   "outputs": [],
   "source": [
    "# Sample plot for a single year \n",
    "\n",
    "df = gapminder[ gapminder.year == 1977]\n",
    "\n",
    "sns.scatterplot(x='lifeExp', y='gdpPercap', data=df , s=df['pop']/100000, hue = 'continent')\n",
    "plt.show()"
   ]
  },
  {
   "cell_type": "code",
   "execution_count": null,
   "metadata": {},
   "outputs": [],
   "source": [
    "# saving scatterplots for different years\n",
    "\n",
    "years_to_plot = list(gapminder['year'].unique())\n",
    "for year in years_to_plot:\n",
    "    \n",
    "        # Save scatterplots throughout the years \n",
    "        df = gapminder[ gapminder.year == year]\n",
    "        # Setting up a white background\n",
    "        sns.set_style(\"white\")\n",
    "\n",
    "        sns.scatterplot(x='lifeExp', y='gdpPercap', data=df , s=df['pop']/100000, hue = 'continent')\n",
    "\n",
    "       # plt.title(f'Year: {year}')\n",
    "       # plt.axis((0,10,0,100))\n",
    "        plt.legend(loc='center right', bbox_to_anchor=(1.3, .5),borderaxespad=0)\n",
    "        plt.tight_layout()\n",
    "        sns.set(rc={'figure.figsize':(10,6)})\n",
    "        #plt.show()\n",
    "        plt.tight_layout()\n",
    "        plt.savefig(f'snsplot_images_{year}.png')\n",
    "        \n",
    "        plt.figure()\n",
    "\n",
    "        \n",
    "images = []\n",
    "\n",
    "#creating an animated GIF using saved pictures\n",
    "for year in years_to_plot:\n",
    "        # Create a gif from the images using the imageio library \n",
    "        filename = f'snsplot_images_{year}.png'\n",
    "        image = imageio.imread(filename)\n",
    "        images.append(image)\n",
    "        \n",
    "        \n",
    "        \n",
    "imageio.mimsave('output_sns_2.gif', images, duration = 0.50)\n",
    "#imageio.mimsave('output_sns.gif', images, duration = 0.06)\n"
   ]
  }
 ],
 "metadata": {
  "kernelspec": {
   "display_name": "Python 3",
   "language": "python",
   "name": "python3"
  },
  "language_info": {
   "codemirror_mode": {
    "name": "ipython",
    "version": 3
   },
   "file_extension": ".py",
   "mimetype": "text/x-python",
   "name": "python",
   "nbconvert_exporter": "python",
   "pygments_lexer": "ipython3",
   "version": "3.7.3"
  }
 },
 "nbformat": 4,
 "nbformat_minor": 2
}
