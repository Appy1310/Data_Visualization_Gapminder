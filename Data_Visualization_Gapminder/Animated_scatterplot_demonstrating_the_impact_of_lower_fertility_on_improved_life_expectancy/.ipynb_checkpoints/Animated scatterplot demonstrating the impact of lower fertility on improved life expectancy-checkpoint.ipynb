{
 "cells": [
  {
   "cell_type": "markdown",
   "metadata": {},
   "source": [
    "##  Animated scatterplot demonstrating the impact of lower fertility on improved life expectancy\n",
    "\n"
   ]
  },
  {
   "cell_type": "code",
   "execution_count": null,
   "metadata": {},
   "outputs": [],
   "source": [
    "import pandas as pd\n",
    "import seaborn as sns\n",
    "import matplotlib.pyplot as plt\n",
    "import imageio\n",
    "\n",
    "sns.set()"
   ]
  },
  {
   "cell_type": "code",
   "execution_count": null,
   "metadata": {},
   "outputs": [],
   "source": [
    "# Importing Data\n",
    "fert = pd.read_csv('gapminder_total_fertility.csv', index_col=0)\n",
    "life = pd.read_excel('gapminder_lifeexpectancy.xlsx', index_col=0)\n",
    "population = pd.read_excel('gapminder_population.xlsx', index_col=0)\n",
    "continents = pd.read_csv('continents.csv', sep=';')\n",
    "continents = pd.read_csv('continents.csv', sep=';')\n",
    "\n",
    "\n"
   ]
  },
  {
   "cell_type": "code",
   "execution_count": null,
   "metadata": {},
   "outputs": [],
   "source": [
    "fert.columns = fert.columns.astype(int)\n",
    "fert.columns"
   ]
  },
  {
   "cell_type": "code",
   "execution_count": null,
   "metadata": {},
   "outputs": [],
   "source": [
    "fert.index.name = 'country'\n",
    "fert = fert.reset_index()\n",
    "fert = fert.melt(id_vars='country', var_name='year', value_name='fertility_rate')\n",
    "fert"
   ]
  },
  {
   "cell_type": "code",
   "execution_count": null,
   "metadata": {},
   "outputs": [],
   "source": [
    "life.index.name = 'country'\n",
    "life = life.reset_index()\n",
    "life = life.melt(id_vars='country', var_name='year', value_name='life_expectancy')\n",
    "life"
   ]
  },
  {
   "cell_type": "code",
   "execution_count": null,
   "metadata": {},
   "outputs": [],
   "source": [
    "population.index.name = 'country'\n",
    "population = population.reset_index()\n",
    "population = population.melt(id_vars='country', var_name='year', value_name='population')\n",
    "population"
   ]
  },
  {
   "cell_type": "code",
   "execution_count": null,
   "metadata": {},
   "outputs": [],
   "source": [
    "df = fert.merge(population)\n",
    "df = life.merge(df)\n",
    "df = continents.merge(df)\n",
    "df"
   ]
  },
  {
   "cell_type": "code",
   "execution_count": null,
   "metadata": {},
   "outputs": [],
   "source": [
    "df_subset = df.loc[df['country'].isin(df['country'].unique())]\n",
    "df_subset"
   ]
  },
  {
   "cell_type": "code",
   "execution_count": null,
   "metadata": {},
   "outputs": [],
   "source": [
    "# Sample plot for a single year \n",
    "\n",
    "sns.set_style(\"white\")\n",
    "\n",
    "sns.scatterplot(x='fertility_rate', y='life_expectancy', s=df_subset['population']/100000, hue = 'continent',\n",
    "            data=df_subset[ df_subset.year == 1960], alpha=0.6)\n",
    "plt.legend(loc='center right', bbox_to_anchor=(1.5, .5),borderaxespad=0, ncol=1)\n",
    "#plt.legend(loc='center left', bbox_to_anchor=(1.5, 0.5), ncol=1)\n",
    "#plt.figure(figsize=(300,100))\n",
    "sns.set(rc={'figure.figsize':(10,6)})\n",
    "\n",
    "plt.tight_layout()\n",
    "plt.show()\n"
   ]
  },
  {
   "cell_type": "code",
   "execution_count": null,
   "metadata": {
    "scrolled": false
   },
   "outputs": [],
   "source": [
    "# saving scatterplots for year 1960 to 2015\n",
    "\n",
    "years_to_plot = list(range(1960,2015))\n",
    "for year in years_to_plot:\n",
    "    \n",
    "        # Save scatterplots throughout 1960 to 2015 \n",
    "        df = df_subset[ df_subset.year == year]\n",
    "        #df = df['year']     tmp = data[ data.year == y ]\n",
    "        sns.set_style(\"white\")\n",
    "\n",
    "        sns.scatterplot(x='fertility_rate', y='life_expectancy', s=df['population']/100000, hue = 'continent',\n",
    "            data=df, alpha=0.6)\n",
    "\n",
    "        plt.title(f'Year: {year}')\n",
    "        plt.axis((0,10,0,100))\n",
    "        plt.legend(loc='center right', bbox_to_anchor=(1.5, .5),borderaxespad=0)\n",
    "        plt.tight_layout()\n",
    "        sns.set(rc={'figure.figsize':(10,6)})\n",
    "\n",
    "\n",
    "\n",
    "        plt.savefig(f'snsplot_images_{year}.png')\n",
    "        \n",
    "        plt.figure()\n",
    "\n",
    "        \n",
    "images = []\n",
    "\n",
    "#creating an animated GIF using saved pictures\n",
    "for year in years_to_plot:\n",
    "        # Create a gif from the images using the imageio library \n",
    "        filename = f'snsplot_images_{year}.png'\n",
    "        image = imageio.imread(filename)\n",
    "        images.append(image)\n",
    "        \n",
    "        \n",
    "        \n",
    "imageio.mimsave('output_sns.gif', images, duration = 0.3)\n",
    "#imageio.mimsave('output_sns.gif', images, duration = 0.06)\n"
   ]
  }
 ],
 "metadata": {
  "kernelspec": {
   "display_name": "Python 3",
   "language": "python",
   "name": "python3"
  },
  "language_info": {
   "codemirror_mode": {
    "name": "ipython",
    "version": 3
   },
   "file_extension": ".py",
   "mimetype": "text/x-python",
   "name": "python",
   "nbconvert_exporter": "python",
   "pygments_lexer": "ipython3",
   "version": "3.7.3"
  }
 },
 "nbformat": 4,
 "nbformat_minor": 2
}
